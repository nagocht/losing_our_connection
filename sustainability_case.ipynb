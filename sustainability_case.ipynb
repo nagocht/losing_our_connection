{
 "cells": [
  {
   "cell_type": "code",
   "execution_count": 55,
   "metadata": {},
   "outputs": [],
   "source": [
    "import numpy as np \n",
    "import pandas as pd\n",
    "import plotly\n",
    "import plotly.plotly as py\n",
    "import plotly.offline as offline\n",
    "import plotly.graph_objs as go\n",
    "from math import cos, asin, sqrt\n",
    "import matplotlib.pyplot as plt\n",
    "from math import sin, cos, sqrt, atan2, radians"
   ]
  },
  {
   "cell_type": "code",
   "execution_count": 56,
   "metadata": {},
   "outputs": [
    {
     "data": {
      "text/html": [
       "<div>\n",
       "<style scoped>\n",
       "    .dataframe tbody tr th:only-of-type {\n",
       "        vertical-align: middle;\n",
       "    }\n",
       "\n",
       "    .dataframe tbody tr th {\n",
       "        vertical-align: top;\n",
       "    }\n",
       "\n",
       "    .dataframe thead th {\n",
       "        text-align: right;\n",
       "    }\n",
       "</style>\n",
       "<table border=\"1\" class=\"dataframe\">\n",
       "  <thead>\n",
       "    <tr style=\"text-align: right;\">\n",
       "      <th></th>\n",
       "      <th>vehicle</th>\n",
       "      <th>lat</th>\n",
       "      <th>lon</th>\n",
       "    </tr>\n",
       "  </thead>\n",
       "  <tbody>\n",
       "    <tr>\n",
       "      <th>0</th>\n",
       "      <td>fartyg/alv-snabben-5</td>\n",
       "      <td>57.706228</td>\n",
       "      <td>11.955972</td>\n",
       "    </tr>\n",
       "    <tr>\n",
       "      <th>1</th>\n",
       "      <td>tag/9035</td>\n",
       "      <td>58.181863</td>\n",
       "      <td>13.559319</td>\n",
       "    </tr>\n",
       "    <tr>\n",
       "      <th>2</th>\n",
       "      <td>tag/3142</td>\n",
       "      <td>58.072659</td>\n",
       "      <td>11.824759</td>\n",
       "    </tr>\n",
       "    <tr>\n",
       "      <th>3</th>\n",
       "      <td>tag/9084</td>\n",
       "      <td>58.354123</td>\n",
       "      <td>11.923729</td>\n",
       "    </tr>\n",
       "    <tr>\n",
       "      <th>4</th>\n",
       "      <td>sparvagn/438</td>\n",
       "      <td>57.707038</td>\n",
       "      <td>11.995197</td>\n",
       "    </tr>\n",
       "  </tbody>\n",
       "</table>\n",
       "</div>"
      ],
      "text/plain": [
       "                vehicle        lat        lon\n",
       "0  fartyg/alv-snabben-5  57.706228  11.955972\n",
       "1              tag/9035  58.181863  13.559319\n",
       "2              tag/3142  58.072659  11.824759\n",
       "3              tag/9084  58.354123  11.923729\n",
       "4          sparvagn/438  57.707038  11.995197"
      ]
     },
     "execution_count": 56,
     "metadata": {},
     "output_type": "execute_result"
    }
   ],
   "source": [
    "#reading the file\n",
    "df = pd.read_csv('new_locations.csv')\n",
    "df.head()"
   ]
  },
  {
   "cell_type": "code",
   "execution_count": 57,
   "metadata": {},
   "outputs": [],
   "source": [
    "df_short = df[0:2000]"
   ]
  },
  {
   "cell_type": "code",
   "execution_count": 58,
   "metadata": {},
   "outputs": [
    {
     "data": {
      "text/plain": [
       "2000"
      ]
     },
     "execution_count": 58,
     "metadata": {},
     "output_type": "execute_result"
    }
   ],
   "source": [
    "df_short.shape[0]"
   ]
  },
  {
   "cell_type": "code",
   "execution_count": 59,
   "metadata": {},
   "outputs": [],
   "source": [
    "df=df_short"
   ]
  },
  {
   "cell_type": "code",
   "execution_count": 60,
   "metadata": {},
   "outputs": [],
   "source": [
    "#function to calculate distances and \n",
    "def distance(lat1, lon1, lat2, lon2):\n",
    "    p = 0.017453292519943295\n",
    "    a = 0.5 - cos((lat2-lat1)*p)/2 + cos(lat1*p)*cos(lat2*p) * (1-cos((lon2-lon1)*p)) / 2\n",
    "    return 12742 * asin(sqrt(a))\n",
    "\n",
    "def closest(data, v):\n",
    "    return min(data, key=lambda p: distance(v[0],v[1],p[0],p[1]))"
   ]
  },
  {
   "cell_type": "code",
   "execution_count": 61,
   "metadata": {},
   "outputs": [
    {
     "data": {
      "text/plain": [
       "2000"
      ]
     },
     "execution_count": 61,
     "metadata": {},
     "output_type": "execute_result"
    }
   ],
   "source": [
    "df.shape[0]"
   ]
  },
  {
   "cell_type": "code",
   "execution_count": 62,
   "metadata": {},
   "outputs": [],
   "source": [
    "df['location'] = list(zip(df.lat, df.lon))"
   ]
  },
  {
   "cell_type": "code",
   "execution_count": 63,
   "metadata": {},
   "outputs": [
    {
     "name": "stderr",
     "output_type": "stream",
     "text": [
      "/anaconda3/lib/python3.7/site-packages/ipykernel_launcher.py:7: SettingWithCopyWarning:\n",
      "\n",
      "\n",
      "A value is trying to be set on a copy of a slice from a DataFrame\n",
      "\n",
      "See the caveats in the documentation: http://pandas.pydata.org/pandas-docs/stable/indexing.html#indexing-view-versus-copy\n",
      "\n"
     ]
    }
   ],
   "source": [
    "\n",
    "#generating artificial data\n",
    "bus_type = []\n",
    "# having bus number \n",
    "# Assumptions: if direction of the buses are opposite they will have different number\n",
    "for i in range(df.shape[0]):\n",
    "    df['vehicle'][i]=df['vehicle'][i][:3]\n",
    "    b_type = np.random.randint(1,20)\n",
    "    bus_type.append(b_type)\n",
    "df['vehicle_type'] = bus_type\n",
    "# Finding the location of the nearest vehicles and \n",
    "vehicle_spec = {}\n",
    "vehicles_numbers = df.vehicle_type.unique()\n",
    "nearest_distance = []\n",
    "nearest_neighbour_list = []\n",
    "for v in vehicles_numbers:\n",
    "    vehicle_spec[v]=df.loc[df['vehicle_type'] == v,'location']\n",
    "    coordinates=vehicle_spec[v]\n",
    "    \n",
    "    for index,geoloc in enumerate(coordinates):\n",
    "        #print(type(coordinates[0][0]))\n",
    "        remainingpoint_point = coordinates.drop(coordinates.index[index])\n",
    "        nearest_neighbour = closest(remainingpoint_point, geoloc)\n",
    "        lat1=geoloc[0]\n",
    "        lon1=geoloc[1]\n",
    "        lat2=nearest_neighbour[0]\n",
    "        lon2=nearest_neighbour[1]\n",
    "        nearest_dis = distance(lat1, lon1, lat2, lon2)\n",
    "        nearest_distance.append(nearest_dis)\n",
    "        nearest_neighbour_list.append(nearest_neighbour)\n",
    "        \n",
    "df['NearestN'] = nearest_neighbour_list\n",
    "df['NNdistance'] =  nearest_distance   \n",
    "time_list=[]\n",
    "score_list=[]\n",
    "for i in df['NNdistance']:\n",
    "    if i < 0.5:\n",
    "        score_list.append(1)\n",
    "        low_second = np.random.randint(1,10,1)\n",
    "        time_list.append(pd.Timestamp(2017, 1, 1, 12, 53, low_second))\n",
    "        \n",
    "    else:\n",
    "        score_list.append(0)\n",
    "        high_second = np.random.randint(10,59,1)\n",
    "        time_list.append(pd.Timestamp(2017, 1, 1, 12, 53, high_second))\n",
    "    \n",
    "# adding it to our data\n",
    "df['queue'] = score_list\n",
    "df['time'] = time_list"
   ]
  },
  {
   "cell_type": "code",
   "execution_count": 64,
   "metadata": {},
   "outputs": [
    {
     "data": {
      "image/png": "[encoded data removed]",
      "text/plain": [
       "<Figure size 425.3x360 with 1 Axes>"
      ]
     },
     "metadata": {},
     "output_type": "display_data"
    }
   ],
   "source": [
    "import seaborn as sns\n",
    "sns.set(style=\"white\")\n",
    "sns.set(style=\"whitegrid\", color_codes=True)\n",
    "#titanic = sns.load_dataset(\"titanic\")\n",
    "sns.catplot(x=\"queue\", kind=\"count\", palette=\"ch:.25\",hue=\"vehicle_type\", data=df);\n",
    "#sns.catplot(x=\"vehicle_type\", kind=\"count\", hue=\"vehicle_type\", kind=\"bar\", data=df);"
   ]
  },
  {
   "cell_type": "code",
   "execution_count": 65,
   "metadata": {},
   "outputs": [],
   "source": [
    "X =  df.drop(columns='queue')\n",
    "Y =  df['queue']"
   ]
  },
  {
   "cell_type": "code",
   "execution_count": 66,
   "metadata": {
    "scrolled": true
   },
   "outputs": [],
   "source": [
    "#from sklearn.linear_model import LogisticRegression\n",
    "#from sklearn import metrics\n",
    "#from sklearn.model_selection import train_test_split\n",
    "\n",
    "#X_train, X_test, y_train, y_test = train_test_split(X, Y, test_size=0.3, random_state=0)\n",
    "#logreg = LogisticRegression()\n",
    "#logreg.fit(X_train, y_train)"
   ]
  },
  {
   "cell_type": "code",
   "execution_count": null,
   "metadata": {},
   "outputs": [],
   "source": []
  }
 ],
 "metadata": {
  "kernelspec": {
   "display_name": "Python 3",
   "language": "python",
   "name": "python3"
  },
  "language_info": {
   "codemirror_mode": {
    "name": "ipython",
    "version": 3
   },
   "file_extension": ".py",
   "mimetype": "text/x-python",
   "name": "python",
   "nbconvert_exporter": "python",
   "pygments_lexer": "ipython3",
   "version": "3.7.1"
  }
 },
 "nbformat": 4,
 "nbformat_minor": 2
}
