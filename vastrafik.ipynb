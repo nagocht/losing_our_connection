{
 "cells": [
  {
   "cell_type": "code",
   "execution_count": 16,
   "metadata": {},
   "outputs": [],
   "source": [
    "import numpy as np \n",
    "import pandas as pd\n",
    "import plotly\n",
    "import plotly.plotly as py\n",
    "import plotly.offline as offline\n",
    "import plotly.graph_objs as go\n",
    "from math import sin, cos, sqrt, atan2, radians\n",
    "import matplotlib.pyplot as plt"
   ]
  },
  {
   "cell_type": "code",
   "execution_count": 29,
   "metadata": {},
   "outputs": [
    {
     "name": "stderr",
     "output_type": "stream",
     "text": [
      "C:\\Users\\natha\\Anaconda3\\lib\\site-packages\\ipykernel_launcher.py:7: SettingWithCopyWarning:\n",
      "\n",
      "\n",
      "A value is trying to be set on a copy of a slice from a DataFrame\n",
      "\n",
      "See the caveats in the documentation: http://pandas.pydata.org/pandas-docs/stable/indexing.html#indexing-view-versus-copy\n",
      "\n"
     ]
    }
   ],
   "source": [
    "#reading the file\n",
    "df = pd.read_csv('locations.csv')\n",
    "df.head()\n",
    "\n",
    "#removing the ids from the data for data protection and extracting only thed type of vehicles\n",
    "for i in range(df.shape[0]):\n",
    "    df['vehicle'][i]=df['vehicle'][i][:3]\n",
    "#looking top rows from the data    \n",
    "df.head()\n",
    "#extracting the location for each type of vehicles\n",
    "vehicles = df.vehicle.unique()\n",
    "data = []\n",
    "for van in vehicles:\n",
    "    vehicle_data = dict(\n",
    "            lat = df.loc[df['vehicle'] == van,'lat'],\n",
    "            lon = df.loc[df['vehicle'] == van,'lon'],\n",
    "            name = van,\n",
    "            marker = dict(size = 8, opacity = 0.5),\n",
    "            type = 'scattermapbox'\n",
    "        )\n",
    "    data.append(vehicle_data)"
   ]
  },
  {
   "cell_type": "code",
   "execution_count": 30,
   "metadata": {},
   "outputs": [],
   "source": [
    "#mapping\n",
    "plotly.tools.set_credentials_file(username='pragya-12', api_key='THBvPhhPk3gc5mQhdkl3')\n",
    "\n",
    "mapbox_access_token = 'pk.eyJ1IjoicHJhZ3lhLTEyIiwiYSI6ImNqdmpicDJ2djA0M2ozeXFpZjU0ZnU2aTYifQ.cvhbvdzvyA4l7pf_1Huh8w'\n",
    "\n",
    "layout = dict(\n",
    "    height = 800,\n",
    "    # top, bottom, left and right margins\n",
    "    margin = dict(t = 0, b = 0, l = 0, r = 0),\n",
    "    font = dict(color = '#FFFFFF', size = 11),\n",
    "    paper_bgcolor = '#000000',\n",
    "    mapbox = dict(\n",
    "        # here you need the token from Mapbox\n",
    "        accesstoken = mapbox_access_token,\n",
    "        bearing = 0,\n",
    "        # where we want the map to be centered\n",
    "        center = dict(\n",
    "            lat = 57.70,\n",
    "            lon = 11.97\n",
    "        ),\n",
    "        # we want the map to be \"parallel\" to our screen, with no angle\n",
    "        pitch = 0,\n",
    "        # default level of zoom\n",
    "        zoom = 12,\n",
    "        # default map style\n",
    "        style = 'light'\n",
    "    )\n",
    ")\n",
    "annotations = [dict(\n",
    "  \n",
    "              # text I want to display. I used <br> to break it into two lines\n",
    "              text = 'Locations of the vehicles', \n",
    "              \n",
    "              # font and border characteristics\n",
    "              font = dict(color = '#FFFFFF', size = 14), borderpad = 10, \n",
    "              \n",
    "              # positional arguments\n",
    "              x = 0.05, y = 0.05, xref = 'paper', yref = 'paper', align = 'left', \n",
    "              \n",
    "              # don't show arrow and set background color\n",
    "              showarrow = False, bgcolor = 'black'\n",
    "              )]\n",
    "\n",
    "# assigning the annotations to the layout\n",
    "layout['annotations'] = annotations\n",
    "updatemenus=list([\n",
    "    # drop-down 1: map styles menu\n",
    "    # buttons containes as many dictionaries as many alternative map styles I want to offer\n",
    "    dict(\n",
    "        buttons=list([\n",
    "            dict(\n",
    "                args=['mapbox.style', 'dark'],\n",
    "                label='Dark',\n",
    "                method='relayout'\n",
    "            ),                    \n",
    "            dict(\n",
    "                args=['mapbox.style', 'light'],\n",
    "                label='Light',\n",
    "                method='relayout'\n",
    "            ),\n",
    "            dict(\n",
    "                args=['mapbox.style', 'outdoors'],\n",
    "                label='Outdoors',\n",
    "                method='relayout'\n",
    "            ),\n",
    "            dict(\n",
    "                args=['mapbox.style', 'satellite-streets'],\n",
    "                label='Satellite with Streets',\n",
    "                method='relayout'\n",
    "            )                    \n",
    "        ]),\n",
    "        # direction where I want the menu to expand when I click on it\n",
    "        direction = 'up',\n",
    "      \n",
    "        # here I specify where I want to place this drop-down on the map\n",
    "        x = 0.75,\n",
    "        xanchor = 'left',\n",
    "        y = 0.05,\n",
    "        yanchor = 'bottom',\n",
    "      \n",
    "        # specify font size and colors\n",
    "        bgcolor = '#000000',\n",
    "        bordercolor = '#FFFFFF',\n",
    "        font = dict(size=11)\n",
    "    ),    \n",
    "    \n",
    "    # drop-down 2: select type of storm event to visualize\n",
    "    dict(\n",
    "         # for each button I specify which dictionaries of my data list I want to visualize. Remember I have 7 different\n",
    "         # types of storms but I have 8 options: the first will show all of them, while from the second to the last option, only\n",
    "         # one type at the time will be shown on the map\n",
    "         buttons=list([\n",
    "            dict(label = 'Vehicles Type',\n",
    "                 method = 'update',\n",
    "                 args = [{'visible': [True, True, True, True]}]),\n",
    "            dict(label = 'spa',\n",
    "                 method = 'update',\n",
    "                 args = [{'visible': [True, False, False, False]}]),\n",
    "            dict(label = 'tag',\n",
    "                 method = 'update',\n",
    "                 args = [{'visible': [False, True, False, False]}]),\n",
    "             dict(label = 'far',\n",
    "                 method = 'update',\n",
    "                 args = [{'visible': [False, False, True, False]}]),\n",
    "             dict(label = 'ec1',\n",
    "                 method = 'update',\n",
    "                 args = [{'visible': [False, False, False, True]}]),\n",
    "        ]),\n",
    "        # direction where the drop-down expands when opened\n",
    "        direction = 'down',\n",
    "        # positional arguments\n",
    "        x = 0.01,\n",
    "        xanchor = 'left',\n",
    "        y = 0.99,\n",
    "        yanchor = 'bottom',\n",
    "        # fonts and border\n",
    "        bgcolor = '#000000',\n",
    "        bordercolor = '#FFFFFF',\n",
    "        font = dict(size=11)\n",
    "    )\n",
    "])\n",
    "\n",
    "# assign the list of dictionaries to the layout dictionary\n",
    "layout['updatemenus'] = updatemenus"
   ]
  },
  {
   "cell_type": "code",
   "execution_count": 31,
   "metadata": {
    "scrolled": false
   },
   "outputs": [
    {
     "data": {
      "text/html": [
       "<iframe id=\"igraph\" scrolling=\"no\" style=\"border:none;\" seamless=\"seamless\" src=\"https://plot.ly/~pragya-12/8.embed\" height=\"800px\" width=\"100%\"></iframe>"
      ],
      "text/plain": [
       "<chart_studio.tools.PlotlyDisplay object>"
      ]
     },
     "execution_count": 31,
     "metadata": {},
     "output_type": "execute_result"
    }
   ],
   "source": [
    "figure = dict(data = data, layout = layout)\n",
    "py.iplot(figure, filename = 'location_vehicles')"
   ]
  },
  {
   "cell_type": "markdown",
   "metadata": {},
   "source": [
    "###  LOST Connections"
   ]
  },
  {
   "cell_type": "code",
   "execution_count": 20,
   "metadata": {},
   "outputs": [],
   "source": [
    "df_lost = pd.read_csv('tram_lost_locations.csv',names=['labels','lat','lon'])"
   ]
  },
  {
   "cell_type": "code",
   "execution_count": 21,
   "metadata": {},
   "outputs": [
    {
     "data": {
      "text/html": [
       "<div>\n",
       "<style scoped>\n",
       "    .dataframe tbody tr th:only-of-type {\n",
       "        vertical-align: middle;\n",
       "    }\n",
       "\n",
       "    .dataframe tbody tr th {\n",
       "        vertical-align: top;\n",
       "    }\n",
       "\n",
       "    .dataframe thead th {\n",
       "        text-align: right;\n",
       "    }\n",
       "</style>\n",
       "<table border=\"1\" class=\"dataframe\">\n",
       "  <thead>\n",
       "    <tr style=\"text-align: right;\">\n",
       "      <th></th>\n",
       "      <th>labels</th>\n",
       "      <th>lat</th>\n",
       "      <th>lon</th>\n",
       "    </tr>\n",
       "  </thead>\n",
       "  <tbody>\n",
       "    <tr>\n",
       "      <th>0</th>\n",
       "      <td>0</td>\n",
       "      <td>57.692002</td>\n",
       "      <td>11.990104</td>\n",
       "    </tr>\n",
       "    <tr>\n",
       "      <th>1</th>\n",
       "      <td>1</td>\n",
       "      <td>57.688943</td>\n",
       "      <td>11.969926</td>\n",
       "    </tr>\n",
       "    <tr>\n",
       "      <th>2</th>\n",
       "      <td>0</td>\n",
       "      <td>57.692300</td>\n",
       "      <td>11.989974</td>\n",
       "    </tr>\n",
       "    <tr>\n",
       "      <th>3</th>\n",
       "      <td>1</td>\n",
       "      <td>57.690443</td>\n",
       "      <td>11.974779</td>\n",
       "    </tr>\n",
       "    <tr>\n",
       "      <th>4</th>\n",
       "      <td>0</td>\n",
       "      <td>57.651240</td>\n",
       "      <td>11.907625</td>\n",
       "    </tr>\n",
       "  </tbody>\n",
       "</table>\n",
       "</div>"
      ],
      "text/plain": [
       "   labels        lat        lon\n",
       "0       0  57.692002  11.990104\n",
       "1       1  57.688943  11.969926\n",
       "2       0  57.692300  11.989974\n",
       "3       1  57.690443  11.974779\n",
       "4       0  57.651240  11.907625"
      ]
     },
     "execution_count": 21,
     "metadata": {},
     "output_type": "execute_result"
    }
   ],
   "source": [
    "df_lost.head()"
   ]
  },
  {
   "cell_type": "code",
   "execution_count": 22,
   "metadata": {},
   "outputs": [
    {
     "name": "stderr",
     "output_type": "stream",
     "text": [
      "C:\\Users\\natha\\Anaconda3\\lib\\site-packages\\ipykernel_launcher.py:2: SettingWithCopyWarning:\n",
      "\n",
      "\n",
      "A value is trying to be set on a copy of a slice from a DataFrame\n",
      "\n",
      "See the caveats in the documentation: http://pandas.pydata.org/pandas-docs/stable/indexing.html#indexing-view-versus-copy\n",
      "\n"
     ]
    }
   ],
   "source": [
    "for i in range(df_lost.shape[0]):\n",
    "    df_lost['labels'][i]=str(df_lost['labels'][i])"
   ]
  },
  {
   "cell_type": "code",
   "execution_count": 23,
   "metadata": {},
   "outputs": [],
   "source": [
    "lost_connection=[0,1]"
   ]
  },
  {
   "cell_type": "code",
   "execution_count": 24,
   "metadata": {},
   "outputs": [],
   "source": [
    "data=[]\n",
    "for van in lost_connection:\n",
    "    vehicle_data = dict(\n",
    "            lat = df_lost.loc[df_lost['labels'] == van,'lat'],\n",
    "            lon = df_lost.loc[df_lost['labels'] == van,'lon'],\n",
    "            name = van,\n",
    "            marker = dict(size = 8, opacity = 0.5),\n",
    "            type = 'scattermapbox'\n",
    "        )\n",
    "    data.append(vehicle_data)"
   ]
  },
  {
   "cell_type": "code",
   "execution_count": 25,
   "metadata": {},
   "outputs": [],
   "source": [
    "plotly.tools.set_credentials_file(username='pragya-12', api_key='THBvPhhPk3gc5mQhdkl3')\n",
    "\n",
    "mapbox_access_token = 'pk.eyJ1IjoicHJhZ3lhLTEyIiwiYSI6ImNqdmpicDJ2djA0M2ozeXFpZjU0ZnU2aTYifQ.cvhbvdzvyA4l7pf_1Huh8w'\n",
    "\n",
    "layout = dict(\n",
    "    height = 800,\n",
    "    # top, bottom, left and right margins\n",
    "    margin = dict(t = 0, b = 0, l = 0, r = 0),\n",
    "    font = dict(color = '#FFFFFF', size = 11),\n",
    "    paper_bgcolor = '#000000',\n",
    "    mapbox = dict(\n",
    "        # here you need the token from Mapbox\n",
    "        accesstoken = mapbox_access_token,\n",
    "        bearing = 0,\n",
    "        # where we want the map to be centered\n",
    "        center = dict(\n",
    "            lat = 57.70,\n",
    "            lon = 11.97\n",
    "        ),\n",
    "        # we want the map to be \"parallel\" to our screen, with no angle\n",
    "        pitch = 0,\n",
    "        # default level of zoom\n",
    "        zoom = 10,\n",
    "        # default map style\n",
    "        style = 'dark'\n",
    "    )\n",
    ")"
   ]
  },
  {
   "cell_type": "code",
   "execution_count": 26,
   "metadata": {},
   "outputs": [],
   "source": [
    "annotations = [dict(\n",
    "  \n",
    "              # text I want to display. I used <br> to break it into two lines\n",
    "              text = 'Location of Lost and regain connnections', \n",
    "              \n",
    "              # font and border characteristics\n",
    "              font = dict(color = '#FFFFFF', size = 14), borderpad = 10, \n",
    "              \n",
    "              # positional arguments\n",
    "              x = 0.05, y = 0.05, xref = 'paper', yref = 'paper', align = 'left', \n",
    "              \n",
    "              # don't show arrow and set background color\n",
    "              showarrow = False, bgcolor = 'black'\n",
    "              )]\n",
    "\n",
    "# assigning the annotations to the layout\n",
    "layout['annotations'] = annotations"
   ]
  },
  {
   "cell_type": "code",
   "execution_count": 27,
   "metadata": {},
   "outputs": [],
   "source": [
    "updatemenus=list([\n",
    "    # drop-down 1: map styles menu\n",
    "    # buttons containes as many dictionaries as many alternative map styles I want to offer\n",
    "    dict(\n",
    "        buttons=list([\n",
    "            dict(\n",
    "                args=['mapbox.style', 'dark'],\n",
    "                label='Dark',\n",
    "                method='relayout'\n",
    "            ),                    \n",
    "            dict(\n",
    "                args=['mapbox.style', 'light'],\n",
    "                label='Light',\n",
    "                method='relayout'\n",
    "            ),\n",
    "            dict(\n",
    "                args=['mapbox.style', 'outdoors'],\n",
    "                label='Outdoors',\n",
    "                method='relayout'\n",
    "            ),\n",
    "            dict(\n",
    "                args=['mapbox.style', 'satellite-streets'],\n",
    "                label='Satellite with Streets',\n",
    "                method='relayout'\n",
    "            )                    \n",
    "        ]),\n",
    "        # direction where I want the menu to expand when I click on it\n",
    "        direction = 'up',\n",
    "      \n",
    "        # here I specify where I want to place this drop-down on the map\n",
    "        x = 0.75,\n",
    "        xanchor = 'left',\n",
    "        y = 0.05,\n",
    "        yanchor = 'bottom',\n",
    "      \n",
    "        # specify font size and colors\n",
    "        bgcolor = '#000000',\n",
    "        bordercolor = '#FFFFFF',\n",
    "        font = dict(size=11)\n",
    "    ),    \n",
    "    \n",
    "    # drop-down 2: select type of storm event to visualize\n",
    "    dict(\n",
    "         # for each button I specify which dictionaries of my data list I want to visualize. Remember I have 7 different\n",
    "         # types of storms but I have 8 options: the first will show all of them, while from the second to the last option, only\n",
    "         # one type at the time will be shown on the map\n",
    "         buttons=list([\n",
    "            dict(label = 'Connections',\n",
    "                 method = 'update',\n",
    "                 args = [{'visible': [True,True]}]),\n",
    "            dict(label = 'lost',\n",
    "                 method = 'update',\n",
    "                 args = [{'visible': [True, False]}]),\n",
    "            dict(label = 'regain',\n",
    "                 method = 'update',\n",
    "                 args = [{'visible': [False, True]}]),\n",
    "        ]),\n",
    "        # direction where the drop-down expands when opened\n",
    "        direction = 'down',\n",
    "        # positional arguments\n",
    "        x = 0.01,\n",
    "        xanchor = 'left',\n",
    "        y = 0.99,\n",
    "        yanchor = 'bottom',\n",
    "        # fonts and border\n",
    "        bgcolor = '#000000',\n",
    "        bordercolor = '#FFFFFF',\n",
    "        font = dict(size=11)\n",
    "    )\n",
    "])\n",
    "\n",
    "# assign the list of dictionaries to the layout dictionary\n",
    "layout['updatemenus'] = updatemenus"
   ]
  },
  {
   "cell_type": "code",
   "execution_count": 28,
   "metadata": {},
   "outputs": [
    {
     "data": {
      "text/html": [
       "<iframe id=\"igraph\" scrolling=\"no\" style=\"border:none;\" seamless=\"seamless\" src=\"https://plot.ly/~pragya-12/10.embed\" height=\"800px\" width=\"100%\"></iframe>"
      ],
      "text/plain": [
       "<chart_studio.tools.PlotlyDisplay object>"
      ]
     },
     "execution_count": 28,
     "metadata": {},
     "output_type": "execute_result"
    }
   ],
   "source": [
    "figure = dict(data = data, layout = layout)\n",
    "py.iplot(figure, filename = 'lost_connections')"
   ]
  },
  {
   "cell_type": "code",
   "execution_count": null,
   "metadata": {},
   "outputs": [],
   "source": []
  }
 ],
 "metadata": {
  "kernelspec": {
   "display_name": "Python 3",
   "language": "python",
   "name": "python3"
  },
  "language_info": {
   "codemirror_mode": {
    "name": "ipython",
    "version": 3
   },
   "file_extension": ".py",
   "mimetype": "text/x-python",
   "name": "python",
   "nbconvert_exporter": "python",
   "pygments_lexer": "ipython3",
   "version": "3.6.8"
  }
 },
 "nbformat": 4,
 "nbformat_minor": 2
}
