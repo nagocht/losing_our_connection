{
 "cells": [
  {
   "cell_type": "code",
   "execution_count": 1,
   "metadata": {},
   "outputs": [],
   "source": [
    "# Imports\n",
    "from pprint import pprint\n",
    "import json\n",
    "import pandas as pd\n",
    "import numpy as np\n",
    "from math import sin, cos, sqrt, atan2, radians"
   ]
  },
  {
   "cell_type": "code",
   "execution_count": 2,
   "metadata": {},
   "outputs": [],
   "source": [
    "gps_data = []\n",
    "with open('gps_dump.json') as file:\n",
    "    for line in file:\n",
    "        parts = line.split(' ',1) \n",
    "        if '/gps/rmc' in parts[0]:\n",
    "            gps_data.append(parts)\n",
    "# pprint(gps_data[:5])"
   ]
  },
  {
   "cell_type": "code",
   "execution_count": 3,
   "metadata": {},
   "outputs": [],
   "source": [
    "data_gps = []\n",
    "import pynmea2\n",
    "for item in gps_data:\n",
    "    data_list = item[1].split(',')\n",
    "    msg = pynmea2.parse(item[1])\n",
    "    try:\n",
    "        data_gps.append((item[0].replace('owntracks/','').replace('/gps/rmc',''),\n",
    "                        data_list[9],\n",
    "                        msg.timestamp,\n",
    "                        data_list[2],\n",
    "                        msg.latitude,\n",
    "                        msg.longitude))\n",
    "    except:\n",
    "        pass\n",
    "df_gps = pd.DataFrame(data=data_gps, columns=['vehicle','date','time','active or void','lat','lon'])\n",
    "# df_gps.to_csv(path_or_buf='gps_data.csv',index=False)"
   ]
  },
  {
   "cell_type": "code",
   "execution_count": 4,
   "metadata": {},
   "outputs": [],
   "source": [
    "trams_with_connection_loss = df_gps[df_gps['active or void'] == 'V']\n",
    "# display(trams_with_connection_loss)\n",
    "trams = df_gps.groupby('vehicle')\n",
    "dict_trams = {}\n",
    "\n",
    "for name,group in trams:\n",
    "    tram_locations = []\n",
    "    \n",
    "    conn = None\n",
    "    pre_loc = None\n",
    "    for idx, row in group.iterrows():\n",
    "#         print(row)\n",
    "        if conn is None:\n",
    "            conn = row['active or void']\n",
    "            pre_loc = (row['lat'], row['lon'])\n",
    "        elif conn == 'A' and row['active or void'] == 'V':\n",
    "            tram_locations.append(pre_loc)\n",
    "            conn = row['active or void']\n",
    "        elif conn == row['active or void'] and conn == 'A':\n",
    "            conn = row['active or void']\n",
    "            pre_loc = (row['lat'], row['lon'])\n",
    "        elif conn == 'V' and row['active or void'] == 'A':\n",
    "            conn = row['active or void']\n",
    "            pre_loc = (row['lat'], row['lon'])\n",
    "            tram_locations.append(pre_loc)\n",
    "        else:\n",
    "            pass\n",
    "    if  tram_locations:\n",
    "        dict_trams[name] = tram_locations\n",
    "        \n",
    "# pprint(dict_trams)\n",
    "# with open('tram_lost_locations.json', 'w') as json_file:  \n",
    "#     json.dump(dict_trams, json_file)\n"
   ]
  },
  {
   "cell_type": "code",
   "execution_count": 9,
   "metadata": {},
   "outputs": [],
   "source": [
    "# locations where connection where lost and where regained\n",
    "tram_locations = []\n",
    "for name,group in trams:\n",
    "    conn = None\n",
    "    pre_loc = None\n",
    "    for idx, row in group.iterrows():\n",
    "#         print(row)\n",
    "        if conn is None:\n",
    "            conn = row['active or void']\n",
    "            pre_loc = (row['lat'], row['lon'])\n",
    "        elif conn == 'A' and row['active or void'] == 'V':\n",
    "            pre_loc = (0,) + pre_loc\n",
    "            tram_locations.append(pre_loc)\n",
    "            conn = row['active or void']\n",
    "        elif conn == row['active or void'] and conn == 'A':\n",
    "            conn = row['active or void']\n",
    "            pre_loc = (row['lat'], row['lon'])\n",
    "        elif conn == 'V' and row['active or void'] == 'A':\n",
    "            conn = row['active or void']\n",
    "            pre_loc = (1, row['lat'], row['lon'])\n",
    "            tram_locations.append(pre_loc)\n",
    "        else:\n",
    "            pass\n",
    "# pprint(tram_locations)\n",
    "with open('tram_lost_locations.csv', 'w') as f:  \n",
    "    for item in tram_locations:\n",
    "        f.write(str(item[0])+','+str(item[1])+','+str(item[2])+'\\n')"
   ]
  },
  {
   "cell_type": "code",
   "execution_count": 5,
   "metadata": {},
   "outputs": [],
   "source": [
    "def calculate_distance(lat1, lon1, lat2, lon2):\n",
    "    # calculate distance between two lat,lon locations\n",
    "    R = 6373.0\n",
    "    lat1 = radians(lat1)\n",
    "    lon1 = radians(lon1)\n",
    "    lat2 = radians(lat2)\n",
    "    lon2 = radians(lon2)\n",
    "\n",
    "    dlon = lon2 - lon1\n",
    "    dlat = lat2 - lat1\n",
    "    a = sin(dlat / 2)**2 + cos(lat1) * cos(lat2) * sin(dlon / 2)**2\n",
    "    c = 2 * atan2(sqrt(a), sqrt(1 - a))\n",
    "\n",
    "    distance = R * c\n",
    "#     print(distance)\n",
    "    return distance\n",
    "\n",
    "\n",
    "active_trams = df_gps[df_gps['active or void'] == 'A']\n",
    "# active_trams.sort_values(by=['time','lat','lon'])\n"
   ]
  },
  {
   "cell_type": "code",
   "execution_count": null,
   "metadata": {},
   "outputs": [
    {
     "name": "stderr",
     "output_type": "stream",
     "text": [
      "C:\\Users\\natha\\Anaconda3\\lib\\site-packages\\ipykernel_launcher.py:14: FutureWarning: set_value is deprecated and will be removed in a future release. Please use .at[] or .iat[] accessors instead\n",
      "  \n"
     ]
    }
   ],
   "source": [
    "# calculate the distance between data points - very costly...\n",
    "active_trams.set_index('time', inplace=True)\n",
    "active_trams = active_trams.drop(columns=['date','active or void'])\n",
    "\n",
    "sLength = len(active_trams['vehicle'])\n",
    "active_trams['distance to prior']= np.zeros(sLength)\n",
    "\n",
    "pre_row = None\n",
    "for idx, row in active_trams.iterrows():\n",
    "    if pre_row is None:\n",
    "        pre_row = row\n",
    "    else:\n",
    "        distance = calculate_distance(pre_row['lat'], pre_row['lon'], row['lat'], row['lon'])\n",
    "        active_trams.set_value(idx,'distance to prior',distance)\n",
    "        pre_row = row\n",
    "display(active_trams)"
   ]
  },
  {
   "cell_type": "code",
   "execution_count": 7,
   "metadata": {},
   "outputs": [],
   "source": [
    "# prepare vehicle, lat and lon for demo of queuing algorithm\n",
    "new_locs = df_gps.drop(columns=['date','time','active or void'])\n",
    "new_locs.to_csv(path_or_buf='new_locations.csv',index=False)"
   ]
  },
  {
   "cell_type": "code",
   "execution_count": 5,
   "metadata": {},
   "outputs": [
    {
     "name": "stdout",
     "output_type": "stream",
     "text": [
      "288\n"
     ]
    }
   ],
   "source": [
    "print(len(df_gps['vehicle'].unique()))"
   ]
  },
  {
   "cell_type": "code",
   "execution_count": null,
   "metadata": {},
   "outputs": [],
   "source": []
  }
 ],
 "metadata": {
  "kernelspec": {
   "display_name": "Python 3",
   "language": "python",
   "name": "python3"
  },
  "language_info": {
   "codemirror_mode": {
    "name": "ipython",
    "version": 3
   },
   "file_extension": ".py",
   "mimetype": "text/x-python",
   "name": "python",
   "nbconvert_exporter": "python",
   "pygments_lexer": "ipython3",
   "version": "3.6.8"
  }
 },
 "nbformat": 4,
 "nbformat_minor": 2
}
